{
 "cells": [
  {
   "cell_type": "code",
   "execution_count": 1,
   "metadata": {
    "collapsed": true
   },
   "outputs": [],
   "source": [
    "import requests\n",
    "from bs4 import BeautifulSoup\n",
    "import json\n",
    "import urllib\n",
    "import os\n",
    "from collections import Counter, OrderedDict\n",
    "import csv\n",
    "import sys\n",
    "import math\n",
    "import operator\n",
    "from tabulate import tabulate"
   ]
  },
  {
   "cell_type": "code",
   "execution_count": 2,
   "metadata": {
    "collapsed": false
   },
   "outputs": [],
   "source": [
    "team_folder = os.path.join(os.getcwd(),'teams')"
   ]
  },
  {
   "cell_type": "code",
   "execution_count": 3,
   "metadata": {
    "collapsed": true
   },
   "outputs": [],
   "source": [
    "def read_in_team(filename):\n",
    "    player_no = 1\n",
    "    player_code_table = {}\n",
    "    target = open(filename, 'r')\n",
    "    for line in target:\n",
    "        if ',' not in line:\n",
    "            team_name = line.strip()\n",
    "            continue\n",
    "        else:\n",
    "            line = line.split(',')\n",
    "            player_name = line[0]\n",
    "            player_url = line[1].strip()\n",
    "            player_id = [int(num) for num in line[1].split('/') if num.isdigit()][0]\n",
    "            player_code_table[player_no] = (player_name, player_id, player_url)\n",
    "            player_no+=1\n",
    "    target.close()\n",
    "    return team_name, player_code_table"
   ]
  },
  {
   "cell_type": "code",
   "execution_count": 4,
   "metadata": {
    "collapsed": true
   },
   "outputs": [],
   "source": [
    "def print_team(player_code_table):\n",
    "    for player, pid in player_code_table.items():\n",
    "        print('{} : {}'.format(player, pid[0]))"
   ]
  },
  {
   "cell_type": "code",
   "execution_count": 5,
   "metadata": {
    "collapsed": false
   },
   "outputs": [],
   "source": [
    "def soupify(url):\n",
    "    htmltext = requests.get(url)\n",
    "    soup = BeautifulSoup(htmltext.text, 'lxml')\n",
    "    content = soup.find('p').getText()\n",
    "    data = json.loads(content)\n",
    "    return data"
   ]
  },
  {
   "cell_type": "code",
   "execution_count": 6,
   "metadata": {
    "collapsed": true
   },
   "outputs": [],
   "source": [
    "url = \"https://fantasy.premierleague.com/drf/entry/503882/event/16\"\n",
    "data = soupify(url)"
   ]
  },
  {
   "cell_type": "code",
   "execution_count": 7,
   "metadata": {
    "collapsed": false
   },
   "outputs": [
    {
     "data": {
      "text/plain": [
       "('Hot Hodor', 'Maitreya', 'Sohani', 503882)"
      ]
     },
     "execution_count": 7,
     "metadata": {},
     "output_type": "execute_result"
    }
   ],
   "source": [
    "data['entry']['name'], data['entry']['player_first_name'], data['entry']['player_last_name'], data['entry']['id']"
   ]
  },
  {
   "cell_type": "code",
   "execution_count": 8,
   "metadata": {
    "collapsed": false
   },
   "outputs": [
    {
     "data": {
      "text/plain": [
       "(16, 78, 4)"
      ]
     },
     "execution_count": 8,
     "metadata": {},
     "output_type": "execute_result"
    }
   ],
   "source": [
    "data['entry_history']['event'], data['entry_history']['points'], data['entry_history']['points_on_bench']"
   ]
  },
  {
   "cell_type": "code",
   "execution_count": 9,
   "metadata": {
    "collapsed": false
   },
   "outputs": [
    {
     "data": {
      "text/plain": [
       "''"
      ]
     },
     "execution_count": 9,
     "metadata": {},
     "output_type": "execute_result"
    }
   ],
   "source": [
    "data['active_chip']"
   ]
  },
  {
   "cell_type": "code",
   "execution_count": 10,
   "metadata": {
    "collapsed": false
   },
   "outputs": [
    {
     "data": {
      "text/plain": [
       "{'can_captain': None,\n",
       " 'can_sub': None,\n",
       " 'element': 340,\n",
       " 'element_type': 1,\n",
       " 'explain': [[{'minutes': {'name': 'Minutes played', 'points': 2, 'value': 90},\n",
       "    'saves': {'name': 'Saves', 'points': 1, 'value': 5}},\n",
       "   152]],\n",
       " 'has_played': True,\n",
       " 'is_captain': False,\n",
       " 'is_sub': False,\n",
       " 'is_vice_captain': False,\n",
       " 'multiplier': 1,\n",
       " 'points': 3,\n",
       " 'position': 1,\n",
       " 'stats': {'assists': 0,\n",
       "  'bonus': 0,\n",
       "  'bps': 20,\n",
       "  'clean_sheets': 0,\n",
       "  'creativity': 0.0,\n",
       "  'goals_conceded': 1,\n",
       "  'goals_scored': 0,\n",
       "  'ict_index': 3.6,\n",
       "  'in_dreamteam': False,\n",
       "  'influence': 35.6,\n",
       "  'minutes': 90,\n",
       "  'own_goals': 0,\n",
       "  'penalties_missed': 0,\n",
       "  'penalties_saved': 0,\n",
       "  'red_cards': 0,\n",
       "  'saves': 5,\n",
       "  'threat': 0.0,\n",
       "  'total_points': 3,\n",
       "  'yellow_cards': 0}}"
      ]
     },
     "execution_count": 10,
     "metadata": {},
     "output_type": "execute_result"
    }
   ],
   "source": [
    "data['picks'][0]"
   ]
  },
  {
   "cell_type": "code",
   "execution_count": 72,
   "metadata": {
    "collapsed": true
   },
   "outputs": [],
   "source": [
    "def create_team_files():\n",
    "    with open(team_folder + '/ffc_teams.csv', 'r') as f:\n",
    "        team_count = 0\n",
    "        while team_count < 20:\n",
    "            team_name = f.readline().strip()[:-1]\n",
    "            # print(team_name)\n",
    "            team_count += 1\n",
    "            team_filename = team_name[:-4].lower().replace(\" \", \"_\")\n",
    "            o = open(team_folder + '/' + team_filename + '.txt', 'w')\n",
    "            o.write(team_name + \"\\n\")\n",
    "            x = f.readline().strip()\n",
    "            while x != ',':\n",
    "                o.write(x)\n",
    "                o.write('\\n')\n",
    "                x = f.readline().strip()\n",
    "            o.close()"
   ]
  },
  {
   "cell_type": "code",
   "execution_count": 11,
   "metadata": {
    "collapsed": false
   },
   "outputs": [],
   "source": [
    "# data"
   ]
  },
  {
   "cell_type": "markdown",
   "metadata": {},
   "source": [
    "### Imp URLs:\n",
    "http://www.fiso.co.uk/forum/viewtopic.php?f=18&t=121295&p=2911180#p2911180\n",
    "\n",
    "https://fantasy.premierleague.com/drf/bootstrap-static - id, webname, \n",
    "\n",
    "https://fantasy.premierleague.com/drf/leagues-classic-standings/211281\n",
    "\n",
    "All player, Club and Lookup data: https://fantasy.premierleague.com/drf/bootstrap-static\n",
    "\n",
    "Next Gameweek Information: https://fantasy.premierleague.com/drf/bootstrap-dynamic\n",
    "\n",
    "GameWeek Stats: https://fantasy.premierleague.com/drf/events/\n",
    "\n",
    "Fixture History which includes players info for YC,RC,Pen,PenSave etc for finished gameweeks: https://fantasy.premierleague.com/drf/fixtures/\n",
    "\n",
    "Fixtures Info for a gameweek: https://fantasy.premierleague.com/drf/fixtures/?event={GW}\n",
    "\n",
    "Not too sure what this one is for but seems to be a summarised list of fixtures, regarless of the number used at the end of the URL\n",
    "https://fantasy.premierleague.com/drf/fixtures/1\n",
    "\n",
    "All Player Stats to Date: https://fantasy.premierleague.com/drf/elements\n",
    "\n",
    "Individual Player Hitory: https://fantasy.premierleague.com/drf/element-summary/{PlayerID}"
   ]
  },
  {
   "cell_type": "markdown",
   "metadata": {},
   "source": [
    "Base url: https://fantasy.premierleague.com/drf/\n",
    "\n",
    "Relative links:\n",
    "/bootstrap (more data if authenticated)\n",
    "/bootstrap-static\n",
    "/bootstrap-dynamic\n",
    "\n",
    "/events\n",
    "/elements\n",
    "/element-types\n",
    "/fixtures\n",
    "/teams\n",
    "/region\n",
    "/transfers (requires auth)\n",
    "/entry/{entryId}\n",
    "/entries (doesn't work in pre-season?)\n",
    "/my-team/{teamId} (requires auth)\n",
    "/leagues-entered/{teamId} (requires auth)\n",
    "/leagues-classic/{leagueId} (must be a member)\n",
    "/leagues-classic-standings/{leagueId}\n",
    "/leagues-h2h/{leagueId} (must be a member)\n",
    "/leagues-h2h-standings/{leagueId}"
   ]
  },
  {
   "cell_type": "markdown",
   "metadata": {},
   "source": [
    "http://www.adtaylor.co.uk/did/a-football-predictor"
   ]
  },
  {
   "cell_type": "code",
   "execution_count": 7,
   "metadata": {
    "collapsed": true
   },
   "outputs": [],
   "source": [
    "all_data_url = 'https://fantasy.premierleague.com/drf/bootstrap-static'\n",
    "pdata = soupify(all_data_url)"
   ]
  },
  {
   "cell_type": "code",
   "execution_count": 8,
   "metadata": {
    "collapsed": true
   },
   "outputs": [],
   "source": [
    "player_dir = {}\n",
    "for player in pdata['elements']:\n",
    "    player_dir[player['id']] = player['web_name'] #, get_team(player['team']))"
   ]
  },
  {
   "cell_type": "code",
   "execution_count": 9,
   "metadata": {
    "collapsed": false
   },
   "outputs": [],
   "source": [
    "team_dir = {}\n",
    "for team in pdata['teams']:\n",
    "    team_dir[team['id']] = team['short_name']"
   ]
  },
  {
   "cell_type": "code",
   "execution_count": 10,
   "metadata": {
    "collapsed": false
   },
   "outputs": [],
   "source": [
    "def get_team(team_id):\n",
    "    return team_dir[team_id]"
   ]
  },
  {
   "cell_type": "code",
   "execution_count": 11,
   "metadata": {
    "collapsed": false
   },
   "outputs": [],
   "source": [
    "flatten = lambda l: [item for sublist in l for item in sublist]\n",
    "order_dict = lambda d: OrderedDict(sorted(d.items(), key = lambda x: x[1], reverse=True))"
   ]
  },
  {
   "cell_type": "code",
   "execution_count": 19,
   "metadata": {
    "collapsed": false
   },
   "outputs": [],
   "source": [
    "def get_current_team(code, gw, include_cap_twice = False):\n",
    "    entry_url = \"https://fantasy.premierleague.com/drf/entry/%d/event/%d\" % (code, gw)\n",
    "    data = soupify(entry_url)\n",
    "    current_team, bench = [], []\n",
    "    for pick in data['picks']:\n",
    "        if not pick['is_sub']:\n",
    "            current_team.append(player_dir[pick['element']])\n",
    "        else: bench.append(player_dir[pick['element']])\n",
    "        if pick['is_captain']:\n",
    "            current_team.append(player_dir[pick['element']])\n",
    "    # print(player['element'],player['is_captain'],player['stats']['total_points'])\n",
    "    return current_team, bench"
   ]
  },
  {
   "cell_type": "code",
   "execution_count": 12,
   "metadata": {
    "collapsed": false
   },
   "outputs": [
    {
     "data": {
      "text/plain": [
       "(['Marshall',\n",
       "  'Valencia',\n",
       "  'Azpilicueta',\n",
       "  'Holebas',\n",
       "  'Eriksen',\n",
       "  'Özil',\n",
       "  'Sigurdsson',\n",
       "  'Hazard',\n",
       "  'Christian Benteke',\n",
       "  'Ibrahimovic',\n",
       "  'Origi'],\n",
       " ['Pickford', 'Capoue', 'Cameron', 'Smith'])"
      ]
     },
     "execution_count": 12,
     "metadata": {},
     "output_type": "execute_result"
    }
   ],
   "source": [
    "get_current_team(503882, 18)"
   ]
  },
  {
   "cell_type": "code",
   "execution_count": null,
   "metadata": {
    "collapsed": false
   },
   "outputs": [],
   "source": []
  },
  {
   "cell_type": "code",
   "execution_count": 20,
   "metadata": {
    "collapsed": false
   },
   "outputs": [],
   "source": [
    "def get_ffcteamdetails(team_file, gameweek, include_bench=False, include_cap_twice=False):\n",
    "    team_details = []\n",
    "    team_name, ffc_team = read_in_team(team_file)\n",
    "    print(team_name)\n",
    "    print_team(ffc_team)\n",
    "    print(\"Captain? = \")\n",
    "    captain = int(input())\n",
    "    print(\"Bench? = \")\n",
    "    bench = int(input())\n",
    "    fpl_codes = [entry[1] for entry in list(ffc_team.values())]\n",
    "    if bench != -1:\n",
    "        fpl_codes[bench-1] = fpl_codes[captain-1]\n",
    "    else: fpl_codes.append(fpl_codes[captain-1])\n",
    "    for code in fpl_codes:\n",
    "        current, bench = get_current_team(code, gameweek, include_cap_twice)\n",
    "        team_details.append(current)\n",
    "        if include_bench:\n",
    "            team_details.append(bench)\n",
    "    # print(current, bench, team_details)\n",
    "    team_details = flatten(team_details)\n",
    "    total_count = dict(Counter(team_details))\n",
    "    total_count_sorted = order_dict(total_count)\n",
    "    csvname = team_name.split(' ')[0].lower() + '_details.csv'\n",
    "    with open(csvname, 'w', newline=\"\") as output_file:\n",
    "        w = csv.writer(output_file)\n",
    "        # w = csv.writer(sys.stderr)\n",
    "        w.writerows(total_count_sorted.items())\n",
    "    return total_count"
   ]
  },
  {
   "cell_type": "code",
   "execution_count": 21,
   "metadata": {
    "collapsed": false
   },
   "outputs": [],
   "source": [
    "def get_differentials(t1,t2,op_filename=None):\n",
    "    players_both_sides = set(list(t1.keys()) + list(t2.keys()))\n",
    "    diff = {key: t1.get(key, 0) - t2.get(key, 0) for key in players_both_sides}\n",
    "    diff_sorted = order_dict(diff)\n",
    "    if op_filename:\n",
    "        csvname = op_filename\n",
    "    else: csvname = 'burn_vs_boro_diff.csv'\n",
    "    with open(csvname, 'w', newline=\"\") as output_file:\n",
    "        w = csv.writer(output_file)\n",
    "        # w = csv.writer(sys.stderr)\n",
    "        w.writerows(diff_sorted.items())"
   ]
  },
  {
   "cell_type": "code",
   "execution_count": 22,
   "metadata": {
    "collapsed": false
   },
   "outputs": [
    {
     "name": "stdout",
     "output_type": "stream",
     "text": [
      "Burnley FFC\n",
      "1 : Maitreya Sohani\n",
      "2 : Meghan Pradhan\n",
      "3 : Siddharth Suttraway\n",
      "4 : Shriram Kelkar\n",
      "5 : Sagar Manohar\n",
      "6 : Shreyas Sohani\n",
      "7 : Antha Ceorote\n",
      "8 : Mohit Shetty\n",
      "9 : Nawaz Sheikh\n",
      "10 : Sagar Sheth\n",
      "Captain? = \n",
      "4\n",
      "Bench? = \n",
      "10\n"
     ]
    }
   ],
   "source": [
    "burnley_team_nosub = get_ffcteamdetails(team_folder + '/burnley.txt', 25, False, True)"
   ]
  },
  {
   "cell_type": "code",
   "execution_count": 23,
   "metadata": {
    "collapsed": false
   },
   "outputs": [
    {
     "name": "stdout",
     "output_type": "stream",
     "text": [
      "Chelsea FFC\n",
      "1 : Abhishek Singh\n",
      "2 : Dhaval Kamdar\n",
      "3 : Sohil Kulkarni\n",
      "4 : Jhonal Rodrigues\n",
      "5 : Akshay Mane\n",
      "6 : Nikhil Chase Deshpande\n",
      "7 : Kalpesh Kadam\n",
      "8 : Siddharth Yadav\n",
      "9 : Rishi Mehta\n",
      "10 : Avishek Das\n",
      "Captain? = \n",
      "7\n",
      "Bench? = \n",
      "1\n"
     ]
    }
   ],
   "source": [
    "chelsea_team = get_ffcteamdetails(team_folder + '/chelsea.txt', 25, False, True)"
   ]
  },
  {
   "cell_type": "code",
   "execution_count": 41,
   "metadata": {
    "collapsed": false
   },
   "outputs": [],
   "source": [
    "# sorted(burnley_team_nosub.items(), key=operator.itemgetter(1), reverse=True)"
   ]
  },
  {
   "cell_type": "code",
   "execution_count": 24,
   "metadata": {
    "collapsed": false
   },
   "outputs": [],
   "source": [
    "get_differentials(burnley_team_nosub, chelsea_team, 'burn_vs_chel_diff.csv')"
   ]
  },
  {
   "cell_type": "code",
   "execution_count": 26,
   "metadata": {
    "collapsed": true
   },
   "outputs": [],
   "source": [
    "def team_scoreboard(filename, gw):\n",
    "    team_file = os.path.join(team_folder,filename)\n",
    "    team_name, ffc_team = read_in_team(team_file)\n",
    "    fpl_codes = [entry[1] for entry in list(ffc_team.values())]\n",
    "    scores = []\n",
    "    points, transfer_costs = [], []\n",
    "    player_urls = []\n",
    "    for code in fpl_codes:\n",
    "        entry_url = \"https://fantasy.premierleague.com/drf/entry/%d/event/%d\" % (code, gw)\n",
    "        player_urls.append(entry_url)\n",
    "        data = soupify(entry_url)\n",
    "        points.append(data['points'])\n",
    "        transfer_costs.append(data['entry_history']['event_transfers_cost'])\n",
    "        scores.append(data['points'] - data['entry_history']['event_transfers_cost'])\n",
    "    player_names = [item[0] for item in list(ffc_team.values())]\n",
    "    table_content = list(map(list, zip(player_names, points, transfer_costs, scores, player_urls)))\n",
    "    table_content = sorted(table_content, key=lambda x: x[3], reverse=True)\n",
    "    print(tabulate(table_content, headers=[\"Player\", \"Points\", \"TC\", \"Score\", \"GW Link\"], tablefmt='orgtbl'))\n",
    "    # return scores"
   ]
  },
  {
   "cell_type": "code",
   "execution_count": 27,
   "metadata": {
    "collapsed": false
   },
   "outputs": [],
   "source": [
    "def get_scores(filename, gw):\n",
    "    team_file = os.path.join(team_folder,filename)\n",
    "    team_name, ffc_team = read_in_team(team_file)\n",
    "    print(team_name)\n",
    "    print_team(ffc_team)\n",
    "    print(\"Captain? = \")\n",
    "    captain = int(input())\n",
    "    print(\"Bench? = \")\n",
    "    bench = int(input())\n",
    "    fpl_codes = [entry[1] for entry in list(ffc_team.values())]\n",
    "    if bench != -1:\n",
    "        fpl_codes[bench-1] = fpl_codes[captain-1]\n",
    "    else: fpl_codes.append(fpl_codes[captain-1])\n",
    "    total = 0\n",
    "    scores = []\n",
    "    for code in fpl_codes:\n",
    "        entry_url = \"https://fantasy.premierleague.com/drf/entry/%d/event/%d\" % (code, gw)\n",
    "        data = soupify(entry_url)\n",
    "        scores.append(data['points'] - data['entry_history']['event_transfers_cost'])\n",
    "    total = sum(scores)\n",
    "    print(\"Home Advantage? 1=Yes 0=No\")\n",
    "    home_advtg = int(input())\n",
    "    if home_advtg:\n",
    "        total += math.ceil(0.25*max(scores))\n",
    "    print(team_name + \" Total = %d\" % total)\n",
    "    return total"
   ]
  },
  {
   "cell_type": "code",
   "execution_count": 31,
   "metadata": {
    "collapsed": false,
    "scrolled": true
   },
   "outputs": [
    {
     "name": "stdout",
     "output_type": "stream",
     "text": [
      "Burnley FFC\n",
      "1 : Maitreya Sohani\n",
      "2 : Meghan Pradhan\n",
      "3 : Siddharth Suttraway\n",
      "4 : Shriram Kelkar\n",
      "5 : Sagar Manohar\n",
      "6 : Shreyas Sohani\n",
      "7 : Antha Ceorote\n",
      "8 : Mohit Shetty\n",
      "9 : Nawaz Sheikh\n",
      "10 : Sagar Sheth\n",
      "Captain? = \n",
      "4\n",
      "Bench? = \n",
      "10\n",
      "Home Advantage? 1=Yes 0=No\n",
      "1\n",
      "Burnley FFC Total = 396\n"
     ]
    },
    {
     "data": {
      "text/plain": [
       "396"
      ]
     },
     "execution_count": 31,
     "metadata": {},
     "output_type": "execute_result"
    }
   ],
   "source": [
    "get_scores('burnley.txt', 25)"
   ]
  },
  {
   "cell_type": "code",
   "execution_count": 32,
   "metadata": {
    "collapsed": false,
    "scrolled": true
   },
   "outputs": [
    {
     "name": "stdout",
     "output_type": "stream",
     "text": [
      "Chelsea FFC\n",
      "1 : Abhishek Singh\n",
      "2 : Dhaval Kamdar\n",
      "3 : Sohil Kulkarni\n",
      "4 : Jhonal Rodrigues\n",
      "5 : Akshay Mane\n",
      "6 : Nikhil Chase Deshpande\n",
      "7 : Kalpesh Kadam\n",
      "8 : Siddharth Yadav\n",
      "9 : Rishi Mehta\n",
      "10 : Avishek Das\n",
      "Captain? = \n",
      "7\n",
      "Bench? = \n",
      "1\n",
      "Home Advantage? 1=Yes 0=No\n",
      "0\n",
      "Chelsea FFC Total = 435\n"
     ]
    },
    {
     "data": {
      "text/plain": [
       "435"
      ]
     },
     "execution_count": 32,
     "metadata": {},
     "output_type": "execute_result"
    }
   ],
   "source": [
    "get_scores('chelsea.txt', 25)"
   ]
  },
  {
   "cell_type": "code",
   "execution_count": 30,
   "metadata": {
    "collapsed": false
   },
   "outputs": [
    {
     "name": "stdout",
     "output_type": "stream",
     "text": [
      "| Player              |   Points |   TC |   Score | GW Link                                                     |\n",
      "|---------------------+----------+------+---------+-------------------------------------------------------------|\n",
      "| Siddharth Suttraway |       55 |    0 |      55 | https://fantasy.premierleague.com/drf/entry/476744/event/25 |\n",
      "| Sagar Manohar       |       55 |    0 |      55 | https://fantasy.premierleague.com/drf/entry/50955/event/25  |\n",
      "| Mohit Shetty        |       52 |    0 |      52 | https://fantasy.premierleague.com/drf/entry/2673/event/25   |\n",
      "| Meghan Pradhan      |       45 |    0 |      45 | https://fantasy.premierleague.com/drf/entry/78689/event/25  |\n",
      "| Shriram Kelkar      |       41 |    0 |      41 | https://fantasy.premierleague.com/drf/entry/505533/event/25 |\n",
      "| Sagar Sheth         |       34 |    0 |      34 | https://fantasy.premierleague.com/drf/entry/721358/event/25 |\n",
      "| Antha Ceorote       |       27 |    0 |      27 | https://fantasy.premierleague.com/drf/entry/572578/event/25 |\n",
      "| Maitreya Sohani     |       26 |    0 |      26 | https://fantasy.premierleague.com/drf/entry/503882/event/25 |\n",
      "| Shreyas Sohani      |       23 |    0 |      23 | https://fantasy.premierleague.com/drf/entry/546396/event/25 |\n",
      "| Nawaz Sheikh        |       17 |    0 |      17 | https://fantasy.premierleague.com/drf/entry/635033/event/25 |\n"
     ]
    }
   ],
   "source": [
    "team_scoreboard('burnley.txt', 25)"
   ]
  },
  {
   "cell_type": "markdown",
   "metadata": {},
   "source": [
    "Writing to drive: https://developers.google.com/drive/v3/web/quickstart/python"
   ]
  }
 ],
 "metadata": {
  "anaconda-cloud": {},
  "kernelspec": {
   "display_name": "Python [conda root]",
   "language": "python",
   "name": "conda-root-py"
  },
  "language_info": {
   "codemirror_mode": {
    "name": "ipython",
    "version": 3
   },
   "file_extension": ".py",
   "mimetype": "text/x-python",
   "name": "python",
   "nbconvert_exporter": "python",
   "pygments_lexer": "ipython3",
   "version": "3.5.2"
  }
 },
 "nbformat": 4,
 "nbformat_minor": 1
}
